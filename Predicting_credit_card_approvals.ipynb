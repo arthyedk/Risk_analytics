{
  "cells": [
    {
      "cell_type": "markdown",
      "metadata": {
        "id": "VWjO1AYsjE49"
      },
      "source": []
    },
    {
      "cell_type": "markdown",
      "metadata": {
        "dc": {
          "key": "3"
        },
        "deletable": false,
        "editable": false,
        "run_control": {
          "frozen": true
        },
        "tags": [
          "context"
        ],
        "id": "bj5HB_lTjE5E"
      },
      "source": [
        "## 1. Credit card applications\n",
        "<p>Commercial banks receive <em>a lot</em> of applications for credit cards. Many of them get rejected for many reasons, like high loan balances, low income levels, or too many inquiries on an individual's credit report, for example. Manually analyzing these applications is mundane, error-prone, and time-consuming (and time is money!). Luckily, this task can be automated with the power of machine learning and pretty much every commercial bank does so nowadays. In this notebook, we will build an automatic credit card approval predictor using machine learning techniques, just like the real banks do\n",
        "<li>First, we will start off by loading and viewing the dataset.</li>\n",
        "<li>We will see that the dataset has a mixture of both numerical and non-numerical features, that it contains values from different ranges, plus that it contains a number of missing entries.</li>\n",
        "<li>We will have to preprocess the dataset to ensure the machine learning model we choose can make good predictions.</li>\n",
        "<li>After our data is in good shape, we will do some exploratory data analysis to build our intuitions.</li>\n",
        "<li>Finally, we will build a machine learning model that can predict if an individual's application for a credit card will be accepted.</li>"
      ]
    },
    {
      "cell_type": "code",
      "execution_count": null,
      "metadata": {
        "id": "uKi9yb34jE5I"
      },
      "outputs": [],
      "source": [
        "import numpy as np # linear algebra\n",
        "import pandas as pd # data processing, CSV file I/O (e.g. pd.read_csv)\n",
        "\n",
        "import pandas as pd\n",
        "import numpy as np\n",
        "\n",
        "import matplotlib.pyplot as plt\n",
        "import seaborn as sns\n",
        "\n",
        "import lightgbm as lgb\n",
        "from sklearn.model_selection import train_test_split\n",
        "\n",
        "import scipy as sc\n",
        "import numpy as np\n",
        "import pandas as pd\n",
        "\n",
        "%matplotlib inline\n",
        "import matplotlib.pyplot as plt\n",
        "import seaborn as sns\n",
        "\n",
        "import sklearn\n",
        "from sklearn import preprocessing\n",
        "from sklearn.compose import make_column_transformer\n",
        "from sklearn.metrics import accuracy_score,confusion_matrix, classification_report"
      ]
    },
    {
      "cell_type": "code",
      "source": [
        "from google.colab import drive\n",
        "drive.mount('/content/drive')"
      ],
      "metadata": {
        "colab": {
          "base_uri": "https://localhost:8080/"
        },
        "id": "PypeI7JYjheh",
        "outputId": "9446a7e6-41a9-4658-bea7-237a59478dd1"
      },
      "execution_count": null,
      "outputs": [
        {
          "output_type": "stream",
          "name": "stdout",
          "text": [
            "Mounted at /content/drive\n"
          ]
        }
      ]
    },
    {
      "cell_type": "code",
      "source": [
        "cc_apps = pd.read_csv(\"/content/drive/MyDrive/ML Learning csv/UCI_crx.csv\")"
      ],
      "metadata": {
        "id": "O6ZPeCG-jXr7"
      },
      "execution_count": null,
      "outputs": []
    },
    {
      "cell_type": "code",
      "source": [
        "cc_apps.head()"
      ],
      "metadata": {
        "colab": {
          "base_uri": "https://localhost:8080/",
          "height": 206
        },
        "id": "yRCfHyN_jjGH",
        "outputId": "178802ac-b507-4333-915e-17276491d09c"
      },
      "execution_count": null,
      "outputs": [
        {
          "output_type": "execute_result",
          "data": {
            "text/plain": [
              "  Gender    Age   Debt Married Bank Customer Education level Ethinicity  \\\n",
              "0      b  30.83  0.000       u             g               w          v   \n",
              "1      a  58.67  4.460       u             g               q          h   \n",
              "2      a   24.5  0.500       u             g               q          h   \n",
              "3      b  27.83  1.540       u             g               w          v   \n",
              "4      b  20.17  5.625       u             g               w          v   \n",
              "\n",
              "   Years employed Prior Default Employed  Credit Score Drivers License  \\\n",
              "0            1.25             t        t             1               f   \n",
              "1            3.04             t        t             6               f   \n",
              "2            1.50             t        f             0               f   \n",
              "3            3.75             t        t             5               t   \n",
              "4            1.71             t        f             0               f   \n",
              "\n",
              "  Citizen Zipcode  Income Approval status  \n",
              "0       g     202       0               +  \n",
              "1       g      43     560               +  \n",
              "2       g     280     824               +  \n",
              "3       g     100       3               +  \n",
              "4       s     120       0               +  "
            ],
            "text/html": [
              "\n",
              "  <div id=\"df-5a67af04-8c82-463a-b645-94ebde0c91ef\">\n",
              "    <div class=\"colab-df-container\">\n",
              "      <div>\n",
              "<style scoped>\n",
              "    .dataframe tbody tr th:only-of-type {\n",
              "        vertical-align: middle;\n",
              "    }\n",
              "\n",
              "    .dataframe tbody tr th {\n",
              "        vertical-align: top;\n",
              "    }\n",
              "\n",
              "    .dataframe thead th {\n",
              "        text-align: right;\n",
              "    }\n",
              "</style>\n",
              "<table border=\"1\" class=\"dataframe\">\n",
              "  <thead>\n",
              "    <tr style=\"text-align: right;\">\n",
              "      <th></th>\n",
              "      <th>Gender</th>\n",
              "      <th>Age</th>\n",
              "      <th>Debt</th>\n",
              "      <th>Married</th>\n",
              "      <th>Bank Customer</th>\n",
              "      <th>Education level</th>\n",
              "      <th>Ethinicity</th>\n",
              "      <th>Years employed</th>\n",
              "      <th>Prior Default</th>\n",
              "      <th>Employed</th>\n",
              "      <th>Credit Score</th>\n",
              "      <th>Drivers License</th>\n",
              "      <th>Citizen</th>\n",
              "      <th>Zipcode</th>\n",
              "      <th>Income</th>\n",
              "      <th>Approval status</th>\n",
              "    </tr>\n",
              "  </thead>\n",
              "  <tbody>\n",
              "    <tr>\n",
              "      <th>0</th>\n",
              "      <td>b</td>\n",
              "      <td>30.83</td>\n",
              "      <td>0.000</td>\n",
              "      <td>u</td>\n",
              "      <td>g</td>\n",
              "      <td>w</td>\n",
              "      <td>v</td>\n",
              "      <td>1.25</td>\n",
              "      <td>t</td>\n",
              "      <td>t</td>\n",
              "      <td>1</td>\n",
              "      <td>f</td>\n",
              "      <td>g</td>\n",
              "      <td>202</td>\n",
              "      <td>0</td>\n",
              "      <td>+</td>\n",
              "    </tr>\n",
              "    <tr>\n",
              "      <th>1</th>\n",
              "      <td>a</td>\n",
              "      <td>58.67</td>\n",
              "      <td>4.460</td>\n",
              "      <td>u</td>\n",
              "      <td>g</td>\n",
              "      <td>q</td>\n",
              "      <td>h</td>\n",
              "      <td>3.04</td>\n",
              "      <td>t</td>\n",
              "      <td>t</td>\n",
              "      <td>6</td>\n",
              "      <td>f</td>\n",
              "      <td>g</td>\n",
              "      <td>43</td>\n",
              "      <td>560</td>\n",
              "      <td>+</td>\n",
              "    </tr>\n",
              "    <tr>\n",
              "      <th>2</th>\n",
              "      <td>a</td>\n",
              "      <td>24.5</td>\n",
              "      <td>0.500</td>\n",
              "      <td>u</td>\n",
              "      <td>g</td>\n",
              "      <td>q</td>\n",
              "      <td>h</td>\n",
              "      <td>1.50</td>\n",
              "      <td>t</td>\n",
              "      <td>f</td>\n",
              "      <td>0</td>\n",
              "      <td>f</td>\n",
              "      <td>g</td>\n",
              "      <td>280</td>\n",
              "      <td>824</td>\n",
              "      <td>+</td>\n",
              "    </tr>\n",
              "    <tr>\n",
              "      <th>3</th>\n",
              "      <td>b</td>\n",
              "      <td>27.83</td>\n",
              "      <td>1.540</td>\n",
              "      <td>u</td>\n",
              "      <td>g</td>\n",
              "      <td>w</td>\n",
              "      <td>v</td>\n",
              "      <td>3.75</td>\n",
              "      <td>t</td>\n",
              "      <td>t</td>\n",
              "      <td>5</td>\n",
              "      <td>t</td>\n",
              "      <td>g</td>\n",
              "      <td>100</td>\n",
              "      <td>3</td>\n",
              "      <td>+</td>\n",
              "    </tr>\n",
              "    <tr>\n",
              "      <th>4</th>\n",
              "      <td>b</td>\n",
              "      <td>20.17</td>\n",
              "      <td>5.625</td>\n",
              "      <td>u</td>\n",
              "      <td>g</td>\n",
              "      <td>w</td>\n",
              "      <td>v</td>\n",
              "      <td>1.71</td>\n",
              "      <td>t</td>\n",
              "      <td>f</td>\n",
              "      <td>0</td>\n",
              "      <td>f</td>\n",
              "      <td>s</td>\n",
              "      <td>120</td>\n",
              "      <td>0</td>\n",
              "      <td>+</td>\n",
              "    </tr>\n",
              "  </tbody>\n",
              "</table>\n",
              "</div>\n",
              "      <button class=\"colab-df-convert\" onclick=\"convertToInteractive('df-5a67af04-8c82-463a-b645-94ebde0c91ef')\"\n",
              "              title=\"Convert this dataframe to an interactive table.\"\n",
              "              style=\"display:none;\">\n",
              "        \n",
              "  <svg xmlns=\"http://www.w3.org/2000/svg\" height=\"24px\"viewBox=\"0 0 24 24\"\n",
              "       width=\"24px\">\n",
              "    <path d=\"M0 0h24v24H0V0z\" fill=\"none\"/>\n",
              "    <path d=\"M18.56 5.44l.94 2.06.94-2.06 2.06-.94-2.06-.94-.94-2.06-.94 2.06-2.06.94zm-11 1L8.5 8.5l.94-2.06 2.06-.94-2.06-.94L8.5 2.5l-.94 2.06-2.06.94zm10 10l.94 2.06.94-2.06 2.06-.94-2.06-.94-.94-2.06-.94 2.06-2.06.94z\"/><path d=\"M17.41 7.96l-1.37-1.37c-.4-.4-.92-.59-1.43-.59-.52 0-1.04.2-1.43.59L10.3 9.45l-7.72 7.72c-.78.78-.78 2.05 0 2.83L4 21.41c.39.39.9.59 1.41.59.51 0 1.02-.2 1.41-.59l7.78-7.78 2.81-2.81c.8-.78.8-2.07 0-2.86zM5.41 20L4 18.59l7.72-7.72 1.47 1.35L5.41 20z\"/>\n",
              "  </svg>\n",
              "      </button>\n",
              "      \n",
              "  <style>\n",
              "    .colab-df-container {\n",
              "      display:flex;\n",
              "      flex-wrap:wrap;\n",
              "      gap: 12px;\n",
              "    }\n",
              "\n",
              "    .colab-df-convert {\n",
              "      background-color: #E8F0FE;\n",
              "      border: none;\n",
              "      border-radius: 50%;\n",
              "      cursor: pointer;\n",
              "      display: none;\n",
              "      fill: #1967D2;\n",
              "      height: 32px;\n",
              "      padding: 0 0 0 0;\n",
              "      width: 32px;\n",
              "    }\n",
              "\n",
              "    .colab-df-convert:hover {\n",
              "      background-color: #E2EBFA;\n",
              "      box-shadow: 0px 1px 2px rgba(60, 64, 67, 0.3), 0px 1px 3px 1px rgba(60, 64, 67, 0.15);\n",
              "      fill: #174EA6;\n",
              "    }\n",
              "\n",
              "    [theme=dark] .colab-df-convert {\n",
              "      background-color: #3B4455;\n",
              "      fill: #D2E3FC;\n",
              "    }\n",
              "\n",
              "    [theme=dark] .colab-df-convert:hover {\n",
              "      background-color: #434B5C;\n",
              "      box-shadow: 0px 1px 3px 1px rgba(0, 0, 0, 0.15);\n",
              "      filter: drop-shadow(0px 1px 2px rgba(0, 0, 0, 0.3));\n",
              "      fill: #FFFFFF;\n",
              "    }\n",
              "  </style>\n",
              "\n",
              "      <script>\n",
              "        const buttonEl =\n",
              "          document.querySelector('#df-5a67af04-8c82-463a-b645-94ebde0c91ef button.colab-df-convert');\n",
              "        buttonEl.style.display =\n",
              "          google.colab.kernel.accessAllowed ? 'block' : 'none';\n",
              "\n",
              "        async function convertToInteractive(key) {\n",
              "          const element = document.querySelector('#df-5a67af04-8c82-463a-b645-94ebde0c91ef');\n",
              "          const dataTable =\n",
              "            await google.colab.kernel.invokeFunction('convertToInteractive',\n",
              "                                                     [key], {});\n",
              "          if (!dataTable) return;\n",
              "\n",
              "          const docLinkHtml = 'Like what you see? Visit the ' +\n",
              "            '<a target=\"_blank\" href=https://colab.research.google.com/notebooks/data_table.ipynb>data table notebook</a>'\n",
              "            + ' to learn more about interactive tables.';\n",
              "          element.innerHTML = '';\n",
              "          dataTable['output_type'] = 'display_data';\n",
              "          await google.colab.output.renderOutput(dataTable, element);\n",
              "          const docLink = document.createElement('div');\n",
              "          docLink.innerHTML = docLinkHtml;\n",
              "          element.appendChild(docLink);\n",
              "        }\n",
              "      </script>\n",
              "    </div>\n",
              "  </div>\n",
              "  "
            ]
          },
          "metadata": {},
          "execution_count": 9
        }
      ]
    },
    {
      "cell_type": "markdown",
      "metadata": {
        "dc": {
          "key": "10"
        },
        "deletable": false,
        "editable": false,
        "run_control": {
          "frozen": true
        },
        "tags": [
          "context"
        ],
        "id": "r_XThLvgjE5O"
      },
      "source": [
        "## 2. Inspecting the applications\n",
        "The features in the typical credit card application are <code>Gender</code>, <code>Age</code>, <code>Debt</code>, <code>Married</code>, <code>BankCustomer</code>, <code>EducationLevel</code>, <code>Ethnicity</code>, <code>YearsEmployed</code>, <code>PriorDefault</code>, <code>Employed</code>, <code>CreditScore</code>, <code>DriversLicense</code>, <code>Citizen</code>, <code>ZipCode</code>, <code>Income</code> and finally the <code>ApprovalStatus</code>. \n",
        "\n",
        "<p>As we can see from our first glance at the data, the dataset has a mixture of numerical and non-numerical features."
      ]
    },
    {
      "cell_type": "code",
      "execution_count": null,
      "metadata": {
        "dc": {
          "key": "10"
        },
        "tags": [
          "sample_code"
        ],
        "colab": {
          "base_uri": "https://localhost:8080/",
          "height": 1000
        },
        "id": "o-o1hc36jE5P",
        "outputId": "09fcacce-8a60-49d9-d28d-f4de1b5ff78b"
      },
      "outputs": [
        {
          "output_type": "stream",
          "name": "stdout",
          "text": [
            "             Debt  Years employed  Credit Score         Income\n",
            "count  690.000000      690.000000     690.00000     690.000000\n",
            "mean     4.758725        2.223406       2.40000    1017.385507\n",
            "std      4.978163        3.346513       4.86294    5210.102598\n",
            "min      0.000000        0.000000       0.00000       0.000000\n",
            "25%      1.000000        0.165000       0.00000       0.000000\n",
            "50%      2.750000        1.000000       0.00000       5.000000\n",
            "75%      7.207500        2.625000       3.00000     395.500000\n",
            "max     28.000000       28.500000      67.00000  100000.000000\n",
            "\n",
            "\n",
            "<class 'pandas.core.frame.DataFrame'>\n",
            "RangeIndex: 690 entries, 0 to 689\n",
            "Data columns (total 16 columns):\n",
            " #   Column           Non-Null Count  Dtype  \n",
            "---  ------           --------------  -----  \n",
            " 0   Gender           690 non-null    object \n",
            " 1   Age              690 non-null    object \n",
            " 2   Debt             690 non-null    float64\n",
            " 3   Married          690 non-null    object \n",
            " 4   Bank Customer    690 non-null    object \n",
            " 5   Education level  690 non-null    object \n",
            " 6   Ethinicity       690 non-null    object \n",
            " 7   Years employed   690 non-null    float64\n",
            " 8   Prior Default    690 non-null    object \n",
            " 9   Employed         690 non-null    object \n",
            " 10  Credit Score     690 non-null    int64  \n",
            " 11  Drivers License  690 non-null    object \n",
            " 12  Citizen          690 non-null    object \n",
            " 13  Zipcode          690 non-null    object \n",
            " 14  Income           690 non-null    int64  \n",
            " 15  Approval status  690 non-null    object \n",
            "dtypes: float64(2), int64(2), object(12)\n",
            "memory usage: 86.4+ KB\n",
            "None\n",
            "\n",
            "\n"
          ]
        },
        {
          "output_type": "execute_result",
          "data": {
            "text/plain": [
              "    Gender    Age    Debt Married Bank Customer Education level Ethinicity  \\\n",
              "673      ?   29.5   2.000       y             p               e          h   \n",
              "674      a  37.33   2.500       u             g               i          h   \n",
              "675      a  41.58   1.040       u             g              aa          v   \n",
              "676      a  30.58  10.665       u             g               q          h   \n",
              "677      b  19.42   7.250       u             g               m          v   \n",
              "678      a  17.92  10.210       u             g              ff         ff   \n",
              "679      a  20.08   1.250       u             g               c          v   \n",
              "680      b   19.5   0.290       u             g               k          v   \n",
              "681      b  27.83   1.000       y             p               d          h   \n",
              "682      b  17.08   3.290       u             g               i          v   \n",
              "683      b  36.42   0.750       y             p               d          v   \n",
              "684      b  40.58   3.290       u             g               m          v   \n",
              "685      b  21.08  10.085       y             p               e          h   \n",
              "686      a  22.67   0.750       u             g               c          v   \n",
              "687      a  25.25  13.500       y             p              ff         ff   \n",
              "688      b  17.92   0.205       u             g              aa          v   \n",
              "689      b     35   3.375       u             g               c          h   \n",
              "\n",
              "     Years employed Prior Default Employed  Credit Score Drivers License  \\\n",
              "673           2.000             f        f             0               f   \n",
              "674           0.210             f        f             0               f   \n",
              "675           0.665             f        f             0               f   \n",
              "676           0.085             f        t            12               t   \n",
              "677           0.040             f        t             1               f   \n",
              "678           0.000             f        f             0               f   \n",
              "679           0.000             f        f             0               f   \n",
              "680           0.290             f        f             0               f   \n",
              "681           3.000             f        f             0               f   \n",
              "682           0.335             f        f             0               t   \n",
              "683           0.585             f        f             0               f   \n",
              "684           3.500             f        f             0               t   \n",
              "685           1.250             f        f             0               f   \n",
              "686           2.000             f        t             2               t   \n",
              "687           2.000             f        t             1               t   \n",
              "688           0.040             f        f             0               f   \n",
              "689           8.290             f        f             0               t   \n",
              "\n",
              "    Citizen Zipcode  Income Approval status  \n",
              "673       g     256      17               -  \n",
              "674       g     260     246               -  \n",
              "675       g     240     237               -  \n",
              "676       g     129       3               -  \n",
              "677       g     100       1               -  \n",
              "678       g       0      50               -  \n",
              "679       g       0       0               -  \n",
              "680       g     280     364               -  \n",
              "681       g     176     537               -  \n",
              "682       g     140       2               -  \n",
              "683       g     240       3               -  \n",
              "684       s     400       0               -  \n",
              "685       g     260       0               -  \n",
              "686       g     200     394               -  \n",
              "687       g     200       1               -  \n",
              "688       g     280     750               -  \n",
              "689       g       0       0               -  "
            ],
            "text/html": [
              "\n",
              "  <div id=\"df-02b734aa-9041-468c-8740-4e4abc354d06\">\n",
              "    <div class=\"colab-df-container\">\n",
              "      <div>\n",
              "<style scoped>\n",
              "    .dataframe tbody tr th:only-of-type {\n",
              "        vertical-align: middle;\n",
              "    }\n",
              "\n",
              "    .dataframe tbody tr th {\n",
              "        vertical-align: top;\n",
              "    }\n",
              "\n",
              "    .dataframe thead th {\n",
              "        text-align: right;\n",
              "    }\n",
              "</style>\n",
              "<table border=\"1\" class=\"dataframe\">\n",
              "  <thead>\n",
              "    <tr style=\"text-align: right;\">\n",
              "      <th></th>\n",
              "      <th>Gender</th>\n",
              "      <th>Age</th>\n",
              "      <th>Debt</th>\n",
              "      <th>Married</th>\n",
              "      <th>Bank Customer</th>\n",
              "      <th>Education level</th>\n",
              "      <th>Ethinicity</th>\n",
              "      <th>Years employed</th>\n",
              "      <th>Prior Default</th>\n",
              "      <th>Employed</th>\n",
              "      <th>Credit Score</th>\n",
              "      <th>Drivers License</th>\n",
              "      <th>Citizen</th>\n",
              "      <th>Zipcode</th>\n",
              "      <th>Income</th>\n",
              "      <th>Approval status</th>\n",
              "    </tr>\n",
              "  </thead>\n",
              "  <tbody>\n",
              "    <tr>\n",
              "      <th>673</th>\n",
              "      <td>?</td>\n",
              "      <td>29.5</td>\n",
              "      <td>2.000</td>\n",
              "      <td>y</td>\n",
              "      <td>p</td>\n",
              "      <td>e</td>\n",
              "      <td>h</td>\n",
              "      <td>2.000</td>\n",
              "      <td>f</td>\n",
              "      <td>f</td>\n",
              "      <td>0</td>\n",
              "      <td>f</td>\n",
              "      <td>g</td>\n",
              "      <td>256</td>\n",
              "      <td>17</td>\n",
              "      <td>-</td>\n",
              "    </tr>\n",
              "    <tr>\n",
              "      <th>674</th>\n",
              "      <td>a</td>\n",
              "      <td>37.33</td>\n",
              "      <td>2.500</td>\n",
              "      <td>u</td>\n",
              "      <td>g</td>\n",
              "      <td>i</td>\n",
              "      <td>h</td>\n",
              "      <td>0.210</td>\n",
              "      <td>f</td>\n",
              "      <td>f</td>\n",
              "      <td>0</td>\n",
              "      <td>f</td>\n",
              "      <td>g</td>\n",
              "      <td>260</td>\n",
              "      <td>246</td>\n",
              "      <td>-</td>\n",
              "    </tr>\n",
              "    <tr>\n",
              "      <th>675</th>\n",
              "      <td>a</td>\n",
              "      <td>41.58</td>\n",
              "      <td>1.040</td>\n",
              "      <td>u</td>\n",
              "      <td>g</td>\n",
              "      <td>aa</td>\n",
              "      <td>v</td>\n",
              "      <td>0.665</td>\n",
              "      <td>f</td>\n",
              "      <td>f</td>\n",
              "      <td>0</td>\n",
              "      <td>f</td>\n",
              "      <td>g</td>\n",
              "      <td>240</td>\n",
              "      <td>237</td>\n",
              "      <td>-</td>\n",
              "    </tr>\n",
              "    <tr>\n",
              "      <th>676</th>\n",
              "      <td>a</td>\n",
              "      <td>30.58</td>\n",
              "      <td>10.665</td>\n",
              "      <td>u</td>\n",
              "      <td>g</td>\n",
              "      <td>q</td>\n",
              "      <td>h</td>\n",
              "      <td>0.085</td>\n",
              "      <td>f</td>\n",
              "      <td>t</td>\n",
              "      <td>12</td>\n",
              "      <td>t</td>\n",
              "      <td>g</td>\n",
              "      <td>129</td>\n",
              "      <td>3</td>\n",
              "      <td>-</td>\n",
              "    </tr>\n",
              "    <tr>\n",
              "      <th>677</th>\n",
              "      <td>b</td>\n",
              "      <td>19.42</td>\n",
              "      <td>7.250</td>\n",
              "      <td>u</td>\n",
              "      <td>g</td>\n",
              "      <td>m</td>\n",
              "      <td>v</td>\n",
              "      <td>0.040</td>\n",
              "      <td>f</td>\n",
              "      <td>t</td>\n",
              "      <td>1</td>\n",
              "      <td>f</td>\n",
              "      <td>g</td>\n",
              "      <td>100</td>\n",
              "      <td>1</td>\n",
              "      <td>-</td>\n",
              "    </tr>\n",
              "    <tr>\n",
              "      <th>678</th>\n",
              "      <td>a</td>\n",
              "      <td>17.92</td>\n",
              "      <td>10.210</td>\n",
              "      <td>u</td>\n",
              "      <td>g</td>\n",
              "      <td>ff</td>\n",
              "      <td>ff</td>\n",
              "      <td>0.000</td>\n",
              "      <td>f</td>\n",
              "      <td>f</td>\n",
              "      <td>0</td>\n",
              "      <td>f</td>\n",
              "      <td>g</td>\n",
              "      <td>0</td>\n",
              "      <td>50</td>\n",
              "      <td>-</td>\n",
              "    </tr>\n",
              "    <tr>\n",
              "      <th>679</th>\n",
              "      <td>a</td>\n",
              "      <td>20.08</td>\n",
              "      <td>1.250</td>\n",
              "      <td>u</td>\n",
              "      <td>g</td>\n",
              "      <td>c</td>\n",
              "      <td>v</td>\n",
              "      <td>0.000</td>\n",
              "      <td>f</td>\n",
              "      <td>f</td>\n",
              "      <td>0</td>\n",
              "      <td>f</td>\n",
              "      <td>g</td>\n",
              "      <td>0</td>\n",
              "      <td>0</td>\n",
              "      <td>-</td>\n",
              "    </tr>\n",
              "    <tr>\n",
              "      <th>680</th>\n",
              "      <td>b</td>\n",
              "      <td>19.5</td>\n",
              "      <td>0.290</td>\n",
              "      <td>u</td>\n",
              "      <td>g</td>\n",
              "      <td>k</td>\n",
              "      <td>v</td>\n",
              "      <td>0.290</td>\n",
              "      <td>f</td>\n",
              "      <td>f</td>\n",
              "      <td>0</td>\n",
              "      <td>f</td>\n",
              "      <td>g</td>\n",
              "      <td>280</td>\n",
              "      <td>364</td>\n",
              "      <td>-</td>\n",
              "    </tr>\n",
              "    <tr>\n",
              "      <th>681</th>\n",
              "      <td>b</td>\n",
              "      <td>27.83</td>\n",
              "      <td>1.000</td>\n",
              "      <td>y</td>\n",
              "      <td>p</td>\n",
              "      <td>d</td>\n",
              "      <td>h</td>\n",
              "      <td>3.000</td>\n",
              "      <td>f</td>\n",
              "      <td>f</td>\n",
              "      <td>0</td>\n",
              "      <td>f</td>\n",
              "      <td>g</td>\n",
              "      <td>176</td>\n",
              "      <td>537</td>\n",
              "      <td>-</td>\n",
              "    </tr>\n",
              "    <tr>\n",
              "      <th>682</th>\n",
              "      <td>b</td>\n",
              "      <td>17.08</td>\n",
              "      <td>3.290</td>\n",
              "      <td>u</td>\n",
              "      <td>g</td>\n",
              "      <td>i</td>\n",
              "      <td>v</td>\n",
              "      <td>0.335</td>\n",
              "      <td>f</td>\n",
              "      <td>f</td>\n",
              "      <td>0</td>\n",
              "      <td>t</td>\n",
              "      <td>g</td>\n",
              "      <td>140</td>\n",
              "      <td>2</td>\n",
              "      <td>-</td>\n",
              "    </tr>\n",
              "    <tr>\n",
              "      <th>683</th>\n",
              "      <td>b</td>\n",
              "      <td>36.42</td>\n",
              "      <td>0.750</td>\n",
              "      <td>y</td>\n",
              "      <td>p</td>\n",
              "      <td>d</td>\n",
              "      <td>v</td>\n",
              "      <td>0.585</td>\n",
              "      <td>f</td>\n",
              "      <td>f</td>\n",
              "      <td>0</td>\n",
              "      <td>f</td>\n",
              "      <td>g</td>\n",
              "      <td>240</td>\n",
              "      <td>3</td>\n",
              "      <td>-</td>\n",
              "    </tr>\n",
              "    <tr>\n",
              "      <th>684</th>\n",
              "      <td>b</td>\n",
              "      <td>40.58</td>\n",
              "      <td>3.290</td>\n",
              "      <td>u</td>\n",
              "      <td>g</td>\n",
              "      <td>m</td>\n",
              "      <td>v</td>\n",
              "      <td>3.500</td>\n",
              "      <td>f</td>\n",
              "      <td>f</td>\n",
              "      <td>0</td>\n",
              "      <td>t</td>\n",
              "      <td>s</td>\n",
              "      <td>400</td>\n",
              "      <td>0</td>\n",
              "      <td>-</td>\n",
              "    </tr>\n",
              "    <tr>\n",
              "      <th>685</th>\n",
              "      <td>b</td>\n",
              "      <td>21.08</td>\n",
              "      <td>10.085</td>\n",
              "      <td>y</td>\n",
              "      <td>p</td>\n",
              "      <td>e</td>\n",
              "      <td>h</td>\n",
              "      <td>1.250</td>\n",
              "      <td>f</td>\n",
              "      <td>f</td>\n",
              "      <td>0</td>\n",
              "      <td>f</td>\n",
              "      <td>g</td>\n",
              "      <td>260</td>\n",
              "      <td>0</td>\n",
              "      <td>-</td>\n",
              "    </tr>\n",
              "    <tr>\n",
              "      <th>686</th>\n",
              "      <td>a</td>\n",
              "      <td>22.67</td>\n",
              "      <td>0.750</td>\n",
              "      <td>u</td>\n",
              "      <td>g</td>\n",
              "      <td>c</td>\n",
              "      <td>v</td>\n",
              "      <td>2.000</td>\n",
              "      <td>f</td>\n",
              "      <td>t</td>\n",
              "      <td>2</td>\n",
              "      <td>t</td>\n",
              "      <td>g</td>\n",
              "      <td>200</td>\n",
              "      <td>394</td>\n",
              "      <td>-</td>\n",
              "    </tr>\n",
              "    <tr>\n",
              "      <th>687</th>\n",
              "      <td>a</td>\n",
              "      <td>25.25</td>\n",
              "      <td>13.500</td>\n",
              "      <td>y</td>\n",
              "      <td>p</td>\n",
              "      <td>ff</td>\n",
              "      <td>ff</td>\n",
              "      <td>2.000</td>\n",
              "      <td>f</td>\n",
              "      <td>t</td>\n",
              "      <td>1</td>\n",
              "      <td>t</td>\n",
              "      <td>g</td>\n",
              "      <td>200</td>\n",
              "      <td>1</td>\n",
              "      <td>-</td>\n",
              "    </tr>\n",
              "    <tr>\n",
              "      <th>688</th>\n",
              "      <td>b</td>\n",
              "      <td>17.92</td>\n",
              "      <td>0.205</td>\n",
              "      <td>u</td>\n",
              "      <td>g</td>\n",
              "      <td>aa</td>\n",
              "      <td>v</td>\n",
              "      <td>0.040</td>\n",
              "      <td>f</td>\n",
              "      <td>f</td>\n",
              "      <td>0</td>\n",
              "      <td>f</td>\n",
              "      <td>g</td>\n",
              "      <td>280</td>\n",
              "      <td>750</td>\n",
              "      <td>-</td>\n",
              "    </tr>\n",
              "    <tr>\n",
              "      <th>689</th>\n",
              "      <td>b</td>\n",
              "      <td>35</td>\n",
              "      <td>3.375</td>\n",
              "      <td>u</td>\n",
              "      <td>g</td>\n",
              "      <td>c</td>\n",
              "      <td>h</td>\n",
              "      <td>8.290</td>\n",
              "      <td>f</td>\n",
              "      <td>f</td>\n",
              "      <td>0</td>\n",
              "      <td>t</td>\n",
              "      <td>g</td>\n",
              "      <td>0</td>\n",
              "      <td>0</td>\n",
              "      <td>-</td>\n",
              "    </tr>\n",
              "  </tbody>\n",
              "</table>\n",
              "</div>\n",
              "      <button class=\"colab-df-convert\" onclick=\"convertToInteractive('df-02b734aa-9041-468c-8740-4e4abc354d06')\"\n",
              "              title=\"Convert this dataframe to an interactive table.\"\n",
              "              style=\"display:none;\">\n",
              "        \n",
              "  <svg xmlns=\"http://www.w3.org/2000/svg\" height=\"24px\"viewBox=\"0 0 24 24\"\n",
              "       width=\"24px\">\n",
              "    <path d=\"M0 0h24v24H0V0z\" fill=\"none\"/>\n",
              "    <path d=\"M18.56 5.44l.94 2.06.94-2.06 2.06-.94-2.06-.94-.94-2.06-.94 2.06-2.06.94zm-11 1L8.5 8.5l.94-2.06 2.06-.94-2.06-.94L8.5 2.5l-.94 2.06-2.06.94zm10 10l.94 2.06.94-2.06 2.06-.94-2.06-.94-.94-2.06-.94 2.06-2.06.94z\"/><path d=\"M17.41 7.96l-1.37-1.37c-.4-.4-.92-.59-1.43-.59-.52 0-1.04.2-1.43.59L10.3 9.45l-7.72 7.72c-.78.78-.78 2.05 0 2.83L4 21.41c.39.39.9.59 1.41.59.51 0 1.02-.2 1.41-.59l7.78-7.78 2.81-2.81c.8-.78.8-2.07 0-2.86zM5.41 20L4 18.59l7.72-7.72 1.47 1.35L5.41 20z\"/>\n",
              "  </svg>\n",
              "      </button>\n",
              "      \n",
              "  <style>\n",
              "    .colab-df-container {\n",
              "      display:flex;\n",
              "      flex-wrap:wrap;\n",
              "      gap: 12px;\n",
              "    }\n",
              "\n",
              "    .colab-df-convert {\n",
              "      background-color: #E8F0FE;\n",
              "      border: none;\n",
              "      border-radius: 50%;\n",
              "      cursor: pointer;\n",
              "      display: none;\n",
              "      fill: #1967D2;\n",
              "      height: 32px;\n",
              "      padding: 0 0 0 0;\n",
              "      width: 32px;\n",
              "    }\n",
              "\n",
              "    .colab-df-convert:hover {\n",
              "      background-color: #E2EBFA;\n",
              "      box-shadow: 0px 1px 2px rgba(60, 64, 67, 0.3), 0px 1px 3px 1px rgba(60, 64, 67, 0.15);\n",
              "      fill: #174EA6;\n",
              "    }\n",
              "\n",
              "    [theme=dark] .colab-df-convert {\n",
              "      background-color: #3B4455;\n",
              "      fill: #D2E3FC;\n",
              "    }\n",
              "\n",
              "    [theme=dark] .colab-df-convert:hover {\n",
              "      background-color: #434B5C;\n",
              "      box-shadow: 0px 1px 3px 1px rgba(0, 0, 0, 0.15);\n",
              "      filter: drop-shadow(0px 1px 2px rgba(0, 0, 0, 0.3));\n",
              "      fill: #FFFFFF;\n",
              "    }\n",
              "  </style>\n",
              "\n",
              "      <script>\n",
              "        const buttonEl =\n",
              "          document.querySelector('#df-02b734aa-9041-468c-8740-4e4abc354d06 button.colab-df-convert');\n",
              "        buttonEl.style.display =\n",
              "          google.colab.kernel.accessAllowed ? 'block' : 'none';\n",
              "\n",
              "        async function convertToInteractive(key) {\n",
              "          const element = document.querySelector('#df-02b734aa-9041-468c-8740-4e4abc354d06');\n",
              "          const dataTable =\n",
              "            await google.colab.kernel.invokeFunction('convertToInteractive',\n",
              "                                                     [key], {});\n",
              "          if (!dataTable) return;\n",
              "\n",
              "          const docLinkHtml = 'Like what you see? Visit the ' +\n",
              "            '<a target=\"_blank\" href=https://colab.research.google.com/notebooks/data_table.ipynb>data table notebook</a>'\n",
              "            + ' to learn more about interactive tables.';\n",
              "          element.innerHTML = '';\n",
              "          dataTable['output_type'] = 'display_data';\n",
              "          await google.colab.output.renderOutput(dataTable, element);\n",
              "          const docLink = document.createElement('div');\n",
              "          docLink.innerHTML = docLinkHtml;\n",
              "          element.appendChild(docLink);\n",
              "        }\n",
              "      </script>\n",
              "    </div>\n",
              "  </div>\n",
              "  "
            ]
          },
          "metadata": {},
          "execution_count": 10
        }
      ],
      "source": [
        "# Print summary statistics\n",
        "cc_apps_description = cc_apps.describe()\n",
        "print(cc_apps_description)\n",
        "\n",
        "print(\"\\n\")\n",
        "\n",
        "# Print DataFrame information\n",
        "cc_apps_info = cc_apps.info()\n",
        "print(cc_apps_info)\n",
        "\n",
        "print(\"\\n\")\n",
        "\n",
        "# Inspect missing values in the dataset\n",
        "cc_apps.tail(17)"
      ]
    },
    {
      "cell_type": "code",
      "source": [
        "#plot a histogram for each numerical attribute\n",
        "%matplotlib inline  \n",
        "import matplotlib.pyplot as plt\n",
        "cc_apps.hist(bins=50, figsize=(20,15))\n",
        "plt.show()"
      ],
      "metadata": {
        "colab": {
          "base_uri": "https://localhost:8080/",
          "height": 879
        },
        "id": "rmG1PPrEtUi0",
        "outputId": "33126f6a-4b10-49d0-c213-5edb6101d5d8"
      },
      "execution_count": null,
      "outputs": [
        {
          "output_type": "display_data",
          "data": {
            "text/plain": [
              "<Figure size 1440x1080 with 4 Axes>"
            ],
            "image/png": "[encoded data removed]"
          },
          "metadata": {
            "needs_background": "light"
          }
        }
      ]
    },
    {
      "cell_type": "markdown",
      "metadata": {
        "dc": {
          "key": "17"
        },
        "deletable": false,
        "editable": false,
        "run_control": {
          "frozen": true
        },
        "tags": [
          "context"
        ],
        "id": "NI8B5Z6hjE5Q"
      },
      "source": [
        "## 3. Handling the missing values\n",
        "<p>We've uncovered some issues that will affect the performance of our machine learning model(s) if they go unchanged:</p>\n",
        "\n",
        "<p>Now, let's temporarily replace these missing value question marks with NaN.</p>"
      ]
    },
    {
      "cell_type": "code",
      "execution_count": null,
      "metadata": {
        "dc": {
          "key": "17"
        },
        "tags": [
          "sample_code"
        ],
        "colab": {
          "base_uri": "https://localhost:8080/",
          "height": 1000
        },
        "id": "GZ-6IjLPjE5R",
        "outputId": "fe27630e-7e3d-4a5d-e2bc-23de863e5581"
      },
      "outputs": [
        {
          "output_type": "stream",
          "name": "stdout",
          "text": [
            "    Gender    Age    Debt Married Bank Customer Education level Ethinicity  \\\n",
            "673      ?   29.5   2.000       y             p               e          h   \n",
            "674      a  37.33   2.500       u             g               i          h   \n",
            "675      a  41.58   1.040       u             g              aa          v   \n",
            "676      a  30.58  10.665       u             g               q          h   \n",
            "677      b  19.42   7.250       u             g               m          v   \n",
            "678      a  17.92  10.210       u             g              ff         ff   \n",
            "679      a  20.08   1.250       u             g               c          v   \n",
            "680      b   19.5   0.290       u             g               k          v   \n",
            "681      b  27.83   1.000       y             p               d          h   \n",
            "682      b  17.08   3.290       u             g               i          v   \n",
            "683      b  36.42   0.750       y             p               d          v   \n",
            "684      b  40.58   3.290       u             g               m          v   \n",
            "685      b  21.08  10.085       y             p               e          h   \n",
            "686      a  22.67   0.750       u             g               c          v   \n",
            "687      a  25.25  13.500       y             p              ff         ff   \n",
            "688      b  17.92   0.205       u             g              aa          v   \n",
            "689      b     35   3.375       u             g               c          h   \n",
            "\n",
            "     Years employed Prior Default Employed  Credit Score Drivers License  \\\n",
            "673           2.000             f        f             0               f   \n",
            "674           0.210             f        f             0               f   \n",
            "675           0.665             f        f             0               f   \n",
            "676           0.085             f        t            12               t   \n",
            "677           0.040             f        t             1               f   \n",
            "678           0.000             f        f             0               f   \n",
            "679           0.000             f        f             0               f   \n",
            "680           0.290             f        f             0               f   \n",
            "681           3.000             f        f             0               f   \n",
            "682           0.335             f        f             0               t   \n",
            "683           0.585             f        f             0               f   \n",
            "684           3.500             f        f             0               t   \n",
            "685           1.250             f        f             0               f   \n",
            "686           2.000             f        t             2               t   \n",
            "687           2.000             f        t             1               t   \n",
            "688           0.040             f        f             0               f   \n",
            "689           8.290             f        f             0               t   \n",
            "\n",
            "    Citizen Zipcode  Income Approval status  \n",
            "673       g     256      17               -  \n",
            "674       g     260     246               -  \n",
            "675       g     240     237               -  \n",
            "676       g     129       3               -  \n",
            "677       g     100       1               -  \n",
            "678       g       0      50               -  \n",
            "679       g       0       0               -  \n",
            "680       g     280     364               -  \n",
            "681       g     176     537               -  \n",
            "682       g     140       2               -  \n",
            "683       g     240       3               -  \n",
            "684       s     400       0               -  \n",
            "685       g     260       0               -  \n",
            "686       g     200     394               -  \n",
            "687       g     200       1               -  \n",
            "688       g     280     750               -  \n",
            "689       g       0       0               -  \n"
          ]
        },
        {
          "output_type": "execute_result",
          "data": {
            "text/plain": [
              "    Gender    Age    Debt Married Bank Customer Education level Ethinicity  \\\n",
              "673    NaN   29.5   2.000       y             p               e          h   \n",
              "674      a  37.33   2.500       u             g               i          h   \n",
              "675      a  41.58   1.040       u             g              aa          v   \n",
              "676      a  30.58  10.665       u             g               q          h   \n",
              "677      b  19.42   7.250       u             g               m          v   \n",
              "678      a  17.92  10.210       u             g              ff         ff   \n",
              "679      a  20.08   1.250       u             g               c          v   \n",
              "680      b   19.5   0.290       u             g               k          v   \n",
              "681      b  27.83   1.000       y             p               d          h   \n",
              "682      b  17.08   3.290       u             g               i          v   \n",
              "683      b  36.42   0.750       y             p               d          v   \n",
              "684      b  40.58   3.290       u             g               m          v   \n",
              "685      b  21.08  10.085       y             p               e          h   \n",
              "686      a  22.67   0.750       u             g               c          v   \n",
              "687      a  25.25  13.500       y             p              ff         ff   \n",
              "688      b  17.92   0.205       u             g              aa          v   \n",
              "689      b     35   3.375       u             g               c          h   \n",
              "\n",
              "     Years employed Prior Default Employed  Credit Score Drivers License  \\\n",
              "673           2.000             f        f             0               f   \n",
              "674           0.210             f        f             0               f   \n",
              "675           0.665             f        f             0               f   \n",
              "676           0.085             f        t            12               t   \n",
              "677           0.040             f        t             1               f   \n",
              "678           0.000             f        f             0               f   \n",
              "679           0.000             f        f             0               f   \n",
              "680           0.290             f        f             0               f   \n",
              "681           3.000             f        f             0               f   \n",
              "682           0.335             f        f             0               t   \n",
              "683           0.585             f        f             0               f   \n",
              "684           3.500             f        f             0               t   \n",
              "685           1.250             f        f             0               f   \n",
              "686           2.000             f        t             2               t   \n",
              "687           2.000             f        t             1               t   \n",
              "688           0.040             f        f             0               f   \n",
              "689           8.290             f        f             0               t   \n",
              "\n",
              "    Citizen Zipcode  Income Approval status  \n",
              "673       g     256      17               -  \n",
              "674       g     260     246               -  \n",
              "675       g     240     237               -  \n",
              "676       g     129       3               -  \n",
              "677       g     100       1               -  \n",
              "678       g       0      50               -  \n",
              "679       g       0       0               -  \n",
              "680       g     280     364               -  \n",
              "681       g     176     537               -  \n",
              "682       g     140       2               -  \n",
              "683       g     240       3               -  \n",
              "684       s     400       0               -  \n",
              "685       g     260       0               -  \n",
              "686       g     200     394               -  \n",
              "687       g     200       1               -  \n",
              "688       g     280     750               -  \n",
              "689       g       0       0               -  "
            ],
            "text/html": [
              "\n",
              "  <div id=\"df-e6e00a65-c49f-4a98-bb99-ce63fb458180\">\n",
              "    <div class=\"colab-df-container\">\n",
              "      <div>\n",
              "<style scoped>\n",
              "    .dataframe tbody tr th:only-of-type {\n",
              "        vertical-align: middle;\n",
              "    }\n",
              "\n",
              "    .dataframe tbody tr th {\n",
              "        vertical-align: top;\n",
              "    }\n",
              "\n",
              "    .dataframe thead th {\n",
              "        text-align: right;\n",
              "    }\n",
              "</style>\n",
              "<table border=\"1\" class=\"dataframe\">\n",
              "  <thead>\n",
              "    <tr style=\"text-align: right;\">\n",
              "      <th></th>\n",
              "      <th>Gender</th>\n",
              "      <th>Age</th>\n",
              "      <th>Debt</th>\n",
              "      <th>Married</th>\n",
              "      <th>Bank Customer</th>\n",
              "      <th>Education level</th>\n",
              "      <th>Ethinicity</th>\n",
              "      <th>Years employed</th>\n",
              "      <th>Prior Default</th>\n",
              "      <th>Employed</th>\n",
              "      <th>Credit Score</th>\n",
              "      <th>Drivers License</th>\n",
              "      <th>Citizen</th>\n",
              "      <th>Zipcode</th>\n",
              "      <th>Income</th>\n",
              "      <th>Approval status</th>\n",
              "    </tr>\n",
              "  </thead>\n",
              "  <tbody>\n",
              "    <tr>\n",
              "      <th>673</th>\n",
              "      <td>NaN</td>\n",
              "      <td>29.5</td>\n",
              "      <td>2.000</td>\n",
              "      <td>y</td>\n",
              "      <td>p</td>\n",
              "      <td>e</td>\n",
              "      <td>h</td>\n",
              "      <td>2.000</td>\n",
              "      <td>f</td>\n",
              "      <td>f</td>\n",
              "      <td>0</td>\n",
              "      <td>f</td>\n",
              "      <td>g</td>\n",
              "      <td>256</td>\n",
              "      <td>17</td>\n",
              "      <td>-</td>\n",
              "    </tr>\n",
              "    <tr>\n",
              "      <th>674</th>\n",
              "      <td>a</td>\n",
              "      <td>37.33</td>\n",
              "      <td>2.500</td>\n",
              "      <td>u</td>\n",
              "      <td>g</td>\n",
              "      <td>i</td>\n",
              "      <td>h</td>\n",
              "      <td>0.210</td>\n",
              "      <td>f</td>\n",
              "      <td>f</td>\n",
              "      <td>0</td>\n",
              "      <td>f</td>\n",
              "      <td>g</td>\n",
              "      <td>260</td>\n",
              "      <td>246</td>\n",
              "      <td>-</td>\n",
              "    </tr>\n",
              "    <tr>\n",
              "      <th>675</th>\n",
              "      <td>a</td>\n",
              "      <td>41.58</td>\n",
              "      <td>1.040</td>\n",
              "      <td>u</td>\n",
              "      <td>g</td>\n",
              "      <td>aa</td>\n",
              "      <td>v</td>\n",
              "      <td>0.665</td>\n",
              "      <td>f</td>\n",
              "      <td>f</td>\n",
              "      <td>0</td>\n",
              "      <td>f</td>\n",
              "      <td>g</td>\n",
              "      <td>240</td>\n",
              "      <td>237</td>\n",
              "      <td>-</td>\n",
              "    </tr>\n",
              "    <tr>\n",
              "      <th>676</th>\n",
              "      <td>a</td>\n",
              "      <td>30.58</td>\n",
              "      <td>10.665</td>\n",
              "      <td>u</td>\n",
              "      <td>g</td>\n",
              "      <td>q</td>\n",
              "      <td>h</td>\n",
              "      <td>0.085</td>\n",
              "      <td>f</td>\n",
              "      <td>t</td>\n",
              "      <td>12</td>\n",
              "      <td>t</td>\n",
              "      <td>g</td>\n",
              "      <td>129</td>\n",
              "      <td>3</td>\n",
              "      <td>-</td>\n",
              "    </tr>\n",
              "    <tr>\n",
              "      <th>677</th>\n",
              "      <td>b</td>\n",
              "      <td>19.42</td>\n",
              "      <td>7.250</td>\n",
              "      <td>u</td>\n",
              "      <td>g</td>\n",
              "      <td>m</td>\n",
              "      <td>v</td>\n",
              "      <td>0.040</td>\n",
              "      <td>f</td>\n",
              "      <td>t</td>\n",
              "      <td>1</td>\n",
              "      <td>f</td>\n",
              "      <td>g</td>\n",
              "      <td>100</td>\n",
              "      <td>1</td>\n",
              "      <td>-</td>\n",
              "    </tr>\n",
              "    <tr>\n",
              "      <th>678</th>\n",
              "      <td>a</td>\n",
              "      <td>17.92</td>\n",
              "      <td>10.210</td>\n",
              "      <td>u</td>\n",
              "      <td>g</td>\n",
              "      <td>ff</td>\n",
              "      <td>ff</td>\n",
              "      <td>0.000</td>\n",
              "      <td>f</td>\n",
              "      <td>f</td>\n",
              "      <td>0</td>\n",
              "      <td>f</td>\n",
              "      <td>g</td>\n",
              "      <td>0</td>\n",
              "      <td>50</td>\n",
              "      <td>-</td>\n",
              "    </tr>\n",
              "    <tr>\n",
              "      <th>679</th>\n",
              "      <td>a</td>\n",
              "      <td>20.08</td>\n",
              "      <td>1.250</td>\n",
              "      <td>u</td>\n",
              "      <td>g</td>\n",
              "      <td>c</td>\n",
              "      <td>v</td>\n",
              "      <td>0.000</td>\n",
              "      <td>f</td>\n",
              "      <td>f</td>\n",
              "      <td>0</td>\n",
              "      <td>f</td>\n",
              "      <td>g</td>\n",
              "      <td>0</td>\n",
              "      <td>0</td>\n",
              "      <td>-</td>\n",
              "    </tr>\n",
              "    <tr>\n",
              "      <th>680</th>\n",
              "      <td>b</td>\n",
              "      <td>19.5</td>\n",
              "      <td>0.290</td>\n",
              "      <td>u</td>\n",
              "      <td>g</td>\n",
              "      <td>k</td>\n",
              "      <td>v</td>\n",
              "      <td>0.290</td>\n",
              "      <td>f</td>\n",
              "      <td>f</td>\n",
              "      <td>0</td>\n",
              "      <td>f</td>\n",
              "      <td>g</td>\n",
              "      <td>280</td>\n",
              "      <td>364</td>\n",
              "      <td>-</td>\n",
              "    </tr>\n",
              "    <tr>\n",
              "      <th>681</th>\n",
              "      <td>b</td>\n",
              "      <td>27.83</td>\n",
              "      <td>1.000</td>\n",
              "      <td>y</td>\n",
              "      <td>p</td>\n",
              "      <td>d</td>\n",
              "      <td>h</td>\n",
              "      <td>3.000</td>\n",
              "      <td>f</td>\n",
              "      <td>f</td>\n",
              "      <td>0</td>\n",
              "      <td>f</td>\n",
              "      <td>g</td>\n",
              "      <td>176</td>\n",
              "      <td>537</td>\n",
              "      <td>-</td>\n",
              "    </tr>\n",
              "    <tr>\n",
              "      <th>682</th>\n",
              "      <td>b</td>\n",
              "      <td>17.08</td>\n",
              "      <td>3.290</td>\n",
              "      <td>u</td>\n",
              "      <td>g</td>\n",
              "      <td>i</td>\n",
              "      <td>v</td>\n",
              "      <td>0.335</td>\n",
              "      <td>f</td>\n",
              "      <td>f</td>\n",
              "      <td>0</td>\n",
              "      <td>t</td>\n",
              "      <td>g</td>\n",
              "      <td>140</td>\n",
              "      <td>2</td>\n",
              "      <td>-</td>\n",
              "    </tr>\n",
              "    <tr>\n",
              "      <th>683</th>\n",
              "      <td>b</td>\n",
              "      <td>36.42</td>\n",
              "      <td>0.750</td>\n",
              "      <td>y</td>\n",
              "      <td>p</td>\n",
              "      <td>d</td>\n",
              "      <td>v</td>\n",
              "      <td>0.585</td>\n",
              "      <td>f</td>\n",
              "      <td>f</td>\n",
              "      <td>0</td>\n",
              "      <td>f</td>\n",
              "      <td>g</td>\n",
              "      <td>240</td>\n",
              "      <td>3</td>\n",
              "      <td>-</td>\n",
              "    </tr>\n",
              "    <tr>\n",
              "      <th>684</th>\n",
              "      <td>b</td>\n",
              "      <td>40.58</td>\n",
              "      <td>3.290</td>\n",
              "      <td>u</td>\n",
              "      <td>g</td>\n",
              "      <td>m</td>\n",
              "      <td>v</td>\n",
              "      <td>3.500</td>\n",
              "      <td>f</td>\n",
              "      <td>f</td>\n",
              "      <td>0</td>\n",
              "      <td>t</td>\n",
              "      <td>s</td>\n",
              "      <td>400</td>\n",
              "      <td>0</td>\n",
              "      <td>-</td>\n",
              "    </tr>\n",
              "    <tr>\n",
              "      <th>685</th>\n",
              "      <td>b</td>\n",
              "      <td>21.08</td>\n",
              "      <td>10.085</td>\n",
              "      <td>y</td>\n",
              "      <td>p</td>\n",
              "      <td>e</td>\n",
              "      <td>h</td>\n",
              "      <td>1.250</td>\n",
              "      <td>f</td>\n",
              "      <td>f</td>\n",
              "      <td>0</td>\n",
              "      <td>f</td>\n",
              "      <td>g</td>\n",
              "      <td>260</td>\n",
              "      <td>0</td>\n",
              "      <td>-</td>\n",
              "    </tr>\n",
              "    <tr>\n",
              "      <th>686</th>\n",
              "      <td>a</td>\n",
              "      <td>22.67</td>\n",
              "      <td>0.750</td>\n",
              "      <td>u</td>\n",
              "      <td>g</td>\n",
              "      <td>c</td>\n",
              "      <td>v</td>\n",
              "      <td>2.000</td>\n",
              "      <td>f</td>\n",
              "      <td>t</td>\n",
              "      <td>2</td>\n",
              "      <td>t</td>\n",
              "      <td>g</td>\n",
              "      <td>200</td>\n",
              "      <td>394</td>\n",
              "      <td>-</td>\n",
              "    </tr>\n",
              "    <tr>\n",
              "      <th>687</th>\n",
              "      <td>a</td>\n",
              "      <td>25.25</td>\n",
              "      <td>13.500</td>\n",
              "      <td>y</td>\n",
              "      <td>p</td>\n",
              "      <td>ff</td>\n",
              "      <td>ff</td>\n",
              "      <td>2.000</td>\n",
              "      <td>f</td>\n",
              "      <td>t</td>\n",
              "      <td>1</td>\n",
              "      <td>t</td>\n",
              "      <td>g</td>\n",
              "      <td>200</td>\n",
              "      <td>1</td>\n",
              "      <td>-</td>\n",
              "    </tr>\n",
              "    <tr>\n",
              "      <th>688</th>\n",
              "      <td>b</td>\n",
              "      <td>17.92</td>\n",
              "      <td>0.205</td>\n",
              "      <td>u</td>\n",
              "      <td>g</td>\n",
              "      <td>aa</td>\n",
              "      <td>v</td>\n",
              "      <td>0.040</td>\n",
              "      <td>f</td>\n",
              "      <td>f</td>\n",
              "      <td>0</td>\n",
              "      <td>f</td>\n",
              "      <td>g</td>\n",
              "      <td>280</td>\n",
              "      <td>750</td>\n",
              "      <td>-</td>\n",
              "    </tr>\n",
              "    <tr>\n",
              "      <th>689</th>\n",
              "      <td>b</td>\n",
              "      <td>35</td>\n",
              "      <td>3.375</td>\n",
              "      <td>u</td>\n",
              "      <td>g</td>\n",
              "      <td>c</td>\n",
              "      <td>h</td>\n",
              "      <td>8.290</td>\n",
              "      <td>f</td>\n",
              "      <td>f</td>\n",
              "      <td>0</td>\n",
              "      <td>t</td>\n",
              "      <td>g</td>\n",
              "      <td>0</td>\n",
              "      <td>0</td>\n",
              "      <td>-</td>\n",
              "    </tr>\n",
              "  </tbody>\n",
              "</table>\n",
              "</div>\n",
              "      <button class=\"colab-df-convert\" onclick=\"convertToInteractive('df-e6e00a65-c49f-4a98-bb99-ce63fb458180')\"\n",
              "              title=\"Convert this dataframe to an interactive table.\"\n",
              "              style=\"display:none;\">\n",
              "        \n",
              "  <svg xmlns=\"http://www.w3.org/2000/svg\" height=\"24px\"viewBox=\"0 0 24 24\"\n",
              "       width=\"24px\">\n",
              "    <path d=\"M0 0h24v24H0V0z\" fill=\"none\"/>\n",
              "    <path d=\"M18.56 5.44l.94 2.06.94-2.06 2.06-.94-2.06-.94-.94-2.06-.94 2.06-2.06.94zm-11 1L8.5 8.5l.94-2.06 2.06-.94-2.06-.94L8.5 2.5l-.94 2.06-2.06.94zm10 10l.94 2.06.94-2.06 2.06-.94-2.06-.94-.94-2.06-.94 2.06-2.06.94z\"/><path d=\"M17.41 7.96l-1.37-1.37c-.4-.4-.92-.59-1.43-.59-.52 0-1.04.2-1.43.59L10.3 9.45l-7.72 7.72c-.78.78-.78 2.05 0 2.83L4 21.41c.39.39.9.59 1.41.59.51 0 1.02-.2 1.41-.59l7.78-7.78 2.81-2.81c.8-.78.8-2.07 0-2.86zM5.41 20L4 18.59l7.72-7.72 1.47 1.35L5.41 20z\"/>\n",
              "  </svg>\n",
              "      </button>\n",
              "      \n",
              "  <style>\n",
              "    .colab-df-container {\n",
              "      display:flex;\n",
              "      flex-wrap:wrap;\n",
              "      gap: 12px;\n",
              "    }\n",
              "\n",
              "    .colab-df-convert {\n",
              "      background-color: #E8F0FE;\n",
              "      border: none;\n",
              "      border-radius: 50%;\n",
              "      cursor: pointer;\n",
              "      display: none;\n",
              "      fill: #1967D2;\n",
              "      height: 32px;\n",
              "      padding: 0 0 0 0;\n",
              "      width: 32px;\n",
              "    }\n",
              "\n",
              "    .colab-df-convert:hover {\n",
              "      background-color: #E2EBFA;\n",
              "      box-shadow: 0px 1px 2px rgba(60, 64, 67, 0.3), 0px 1px 3px 1px rgba(60, 64, 67, 0.15);\n",
              "      fill: #174EA6;\n",
              "    }\n",
              "\n",
              "    [theme=dark] .colab-df-convert {\n",
              "      background-color: #3B4455;\n",
              "      fill: #D2E3FC;\n",
              "    }\n",
              "\n",
              "    [theme=dark] .colab-df-convert:hover {\n",
              "      background-color: #434B5C;\n",
              "      box-shadow: 0px 1px 3px 1px rgba(0, 0, 0, 0.15);\n",
              "      filter: drop-shadow(0px 1px 2px rgba(0, 0, 0, 0.3));\n",
              "      fill: #FFFFFF;\n",
              "    }\n",
              "  </style>\n",
              "\n",
              "      <script>\n",
              "        const buttonEl =\n",
              "          document.querySelector('#df-e6e00a65-c49f-4a98-bb99-ce63fb458180 button.colab-df-convert');\n",
              "        buttonEl.style.display =\n",
              "          google.colab.kernel.accessAllowed ? 'block' : 'none';\n",
              "\n",
              "        async function convertToInteractive(key) {\n",
              "          const element = document.querySelector('#df-e6e00a65-c49f-4a98-bb99-ce63fb458180');\n",
              "          const dataTable =\n",
              "            await google.colab.kernel.invokeFunction('convertToInteractive',\n",
              "                                                     [key], {});\n",
              "          if (!dataTable) return;\n",
              "\n",
              "          const docLinkHtml = 'Like what you see? Visit the ' +\n",
              "            '<a target=\"_blank\" href=https://colab.research.google.com/notebooks/data_table.ipynb>data table notebook</a>'\n",
              "            + ' to learn more about interactive tables.';\n",
              "          element.innerHTML = '';\n",
              "          dataTable['output_type'] = 'display_data';\n",
              "          await google.colab.output.renderOutput(dataTable, element);\n",
              "          const docLink = document.createElement('div');\n",
              "          docLink.innerHTML = docLinkHtml;\n",
              "          element.appendChild(docLink);\n",
              "        }\n",
              "      </script>\n",
              "    </div>\n",
              "  </div>\n",
              "  "
            ]
          },
          "metadata": {},
          "execution_count": 12
        }
      ],
      "source": [
        "# Import numpy\n",
        "import numpy as np\n",
        "# Inspect missing values in the dataset\n",
        "print(cc_apps.tail(17))\n",
        "\n",
        "# Replace the '?'s with NaN\n",
        "cc_apps = cc_apps.replace('?', np.NaN)\n",
        "\n",
        "# Inspect the missing values again\n",
        "cc_apps.tail(17)"
      ]
    },
    {
      "cell_type": "markdown",
      "metadata": {
        "dc": {
          "key": "24"
        },
        "deletable": false,
        "editable": false,
        "run_control": {
          "frozen": true
        },
        "tags": [
          "context"
        ],
        "id": "eH9XOXJljE5S"
      },
      "source": [
        "## 4. Handling the missing values (part ii)\n",
        "Ignoring missing values can affect the performance of a machine learning model heavily.\n",
        "<p>So, to avoid this problem, we are going to impute the missing values with a strategy called mean imputation.</p>"
      ]
    },
    {
      "cell_type": "code",
      "execution_count": null,
      "metadata": {
        "dc": {
          "key": "24"
        },
        "tags": [
          "sample_code"
        ],
        "colab": {
          "base_uri": "https://localhost:8080/"
        },
        "id": "J2hwmhJvjE5T",
        "outputId": "83c46cc6-420a-4b05-a8b4-fafa58f985a1"
      },
      "outputs": [
        {
          "output_type": "stream",
          "name": "stderr",
          "text": [
            "/usr/local/lib/python3.7/dist-packages/ipykernel_launcher.py:2: FutureWarning: Dropping of nuisance columns in DataFrame reductions (with 'numeric_only=None') is deprecated; in a future version this will raise TypeError.  Select only valid columns before calling the reduction.\n",
            "  \n"
          ]
        },
        {
          "output_type": "execute_result",
          "data": {
            "text/plain": [
              "Gender             12\n",
              "Age                12\n",
              "Debt                0\n",
              "Married             6\n",
              "Bank Customer       6\n",
              "Education level     9\n",
              "Ethinicity          9\n",
              "Years employed      0\n",
              "Prior Default       0\n",
              "Employed            0\n",
              "Credit Score        0\n",
              "Drivers License     0\n",
              "Citizen             0\n",
              "Zipcode            13\n",
              "Income              0\n",
              "Approval status     0\n",
              "dtype: int64"
            ]
          },
          "metadata": {},
          "execution_count": 13
        }
      ],
      "source": [
        "# Impute the missing values with mean imputation\n",
        "cc_apps.fillna(cc_apps.mean(), inplace=True)\n",
        "\n",
        "# Count the number of NaNs in the dataset to verify\n",
        "cc_apps.isnull().sum()"
      ]
    },
    {
      "cell_type": "markdown",
      "metadata": {
        "dc": {
          "key": "31"
        },
        "deletable": false,
        "editable": false,
        "run_control": {
          "frozen": true
        },
        "tags": [
          "context"
        ],
        "id": "Ts5HcP5gjE5U"
      },
      "source": [
        "## 5. Handling the missing values (part iii)\n",
        "<p>We have successfully taken care of the missing values present in the numeric columns.\n",
        "<p>We are going to impute these missing values with the most frequent values as present in the respective columns."
      ]
    },
    {
      "cell_type": "code",
      "execution_count": null,
      "metadata": {
        "dc": {
          "key": "31"
        },
        "tags": [
          "sample_code"
        ],
        "colab": {
          "base_uri": "https://localhost:8080/"
        },
        "id": "b9_CS493jE5V",
        "outputId": "de4524d5-41a6-4b5c-fad4-abb8064e0c0d"
      },
      "outputs": [
        {
          "output_type": "execute_result",
          "data": {
            "text/plain": [
              "Gender             0\n",
              "Age                0\n",
              "Debt               0\n",
              "Married            0\n",
              "Bank Customer      0\n",
              "Education level    0\n",
              "Ethinicity         0\n",
              "Years employed     0\n",
              "Prior Default      0\n",
              "Employed           0\n",
              "Credit Score       0\n",
              "Drivers License    0\n",
              "Citizen            0\n",
              "Zipcode            0\n",
              "Income             0\n",
              "Approval status    0\n",
              "dtype: int64"
            ]
          },
          "metadata": {},
          "execution_count": 14
        }
      ],
      "source": [
        "# Iterate over each column of cc_apps\n",
        "for col in cc_apps.columns:\n",
        "    # Check if the column is of object type\n",
        "    if cc_apps[col].dtype == 'object':\n",
        "        # Impute with the most frequent value\n",
        "        cc_apps = cc_apps.fillna(cc_apps[col].value_counts().index[0])\n",
        "\n",
        "# Count the number of NaNs in the dataset and print the counts to verify\n",
        "cc_apps.isnull().sum()"
      ]
    },
    {
      "cell_type": "markdown",
      "metadata": {
        "dc": {
          "key": "38"
        },
        "deletable": false,
        "editable": false,
        "run_control": {
          "frozen": true
        },
        "tags": [
          "context"
        ],
        "id": "1AGvEP8jjE5W"
      },
      "source": [
        "## 6. Preprocessing the data (part i)\n",
        "<p>The missing values are now successfully handled.</p>\n",
        "<p>There is still some minor but essential data preprocessing needed before we proceed towards building our machine learning model."
      ]
    },
    {
      "cell_type": "code",
      "execution_count": null,
      "metadata": {
        "dc": {
          "key": "38"
        },
        "tags": [
          "sample_code"
        ],
        "id": "NH8b4NHljE5X"
      },
      "outputs": [],
      "source": [
        "# Import LabelEncoder\n",
        "from sklearn.preprocessing import LabelEncoder\n",
        "\n",
        "# Instantiate LabelEncoder\n",
        "le=LabelEncoder()\n",
        "\n",
        "# Iterate over all the values of each column and extract their dtypes\n",
        "for col in cc_apps.columns.values:\n",
        "    # Compare if the dtype is object\n",
        "    if cc_apps[col].dtype=='object':\n",
        "    # Use LabelEncoder to do the numeric transformation\n",
        "        cc_apps[col]=le.fit_transform(cc_apps[col])"
      ]
    },
    {
      "cell_type": "code",
      "source": [
        "from sklearn.feature_selection import SelectKBest, chi2, f_regression"
      ],
      "metadata": {
        "id": "etYyOI-CzM34"
      },
      "execution_count": null,
      "outputs": []
    },
    {
      "cell_type": "code",
      "source": [
        "# Create the object for SelectKBest and fit and transform the classification data\n",
        "# k is the number of features you want to select [here it's 2]\n",
        "bestfeatures = SelectKBest(score_func=chi2, k=11)"
      ],
      "metadata": {
        "id": "xqZxhS-szOCb"
      },
      "execution_count": null,
      "outputs": []
    },
    {
      "cell_type": "code",
      "source": [
        "# Create feature and target variable for Classification problem\n",
        "#From here we shall select the best 11 variables and drop 2\n",
        "X_class=cc_apps.iloc[:,0:13]\n",
        "X_class= cc_apps.drop('Approval status', axis=1)"
      ],
      "metadata": {
        "id": "XfQ6sLNrzb2N"
      },
      "execution_count": null,
      "outputs": []
    },
    {
      "cell_type": "code",
      "source": [
        "y_class = cc_apps['Approval status']"
      ],
      "metadata": {
        "id": "W9_5mF7s0Tt9"
      },
      "execution_count": null,
      "outputs": []
    },
    {
      "cell_type": "code",
      "source": [
        "fit=bestfeatures.fit(X_class,y_class)"
      ],
      "metadata": {
        "id": "yQXZyXFU2Ipa"
      },
      "execution_count": null,
      "outputs": []
    },
    {
      "cell_type": "code",
      "source": [
        "dfscores = pd.DataFrame(fit.scores_)\n",
        "dfcolumns = pd.DataFrame(X_class.columns)"
      ],
      "metadata": {
        "id": "l3wm69pi2ImD"
      },
      "execution_count": null,
      "outputs": []
    },
    {
      "cell_type": "code",
      "source": [
        "#concat two dataframes for better visualization \n",
        "featureScores = pd.concat([dfcolumns,dfscores],axis=1)"
      ],
      "metadata": {
        "id": "SbP7M3qB2IiH"
      },
      "execution_count": null,
      "outputs": []
    },
    {
      "cell_type": "code",
      "source": [
        "featureScores.columns = ['Specs','Score']  #naming the dataframe columns\n",
        "print(featureScores.nlargest(11,'Score'))  #print 11 best features"
      ],
      "metadata": {
        "colab": {
          "base_uri": "https://localhost:8080/"
        },
        "id": "yJ3n3xhX2Zrk",
        "outputId": "452140fd-477e-4555-ae87-8183f3a081c7"
      },
      "execution_count": null,
      "outputs": [
        {
          "output_type": "stream",
          "name": "stdout",
          "text": [
            "              Specs          Score\n",
            "14           Income  567228.629561\n",
            "10     Credit Score    1121.332987\n",
            "1               Age     752.546126\n",
            "7    Years employed     360.893186\n",
            "8     Prior Default     170.746388\n",
            "2              Debt     152.699990\n",
            "13          Zipcode     125.013967\n",
            "9          Employed      82.965844\n",
            "5   Education level      34.320184\n",
            "12          Citizen      12.338646\n",
            "4     Bank Customer      12.221009\n"
          ]
        }
      ]
    },
    {
      "cell_type": "code",
      "source": [
        "# Best features include:age,debt,bank customer,educationlevel,yearsemployed,default,employed,creditscore,driverslicense,zipcode,income"
      ],
      "metadata": {
        "id": "d1-y3Qit1bjs"
      },
      "execution_count": null,
      "outputs": []
    },
    {
      "cell_type": "code",
      "source": [
        "print(X_class[:5])"
      ],
      "metadata": {
        "colab": {
          "base_uri": "https://localhost:8080/"
        },
        "id": "w_Z7rwknzR6Q",
        "outputId": "5b115046-98e6-44cf-8441-0b0f53452d97"
      },
      "execution_count": null,
      "outputs": [
        {
          "output_type": "stream",
          "name": "stdout",
          "text": [
            "   Gender  Age   Debt  Married  Bank Customer  Education level  Ethinicity  \\\n",
            "0       1  156  0.000        2              1               13           8   \n",
            "1       0  328  4.460        2              1               11           4   \n",
            "2       0   89  0.500        2              1               11           4   \n",
            "3       1  125  1.540        2              1               13           8   \n",
            "4       1   43  5.625        2              1               13           8   \n",
            "\n",
            "   Years employed  Prior Default  Employed  Credit Score  Drivers License  \\\n",
            "0            1.25              1         1             1                0   \n",
            "1            3.04              1         1             6                0   \n",
            "2            1.50              1         0             0                0   \n",
            "3            3.75              1         1             5                1   \n",
            "4            1.71              1         0             0                0   \n",
            "\n",
            "   Citizen  Zipcode  Income  \n",
            "0        0       42       0  \n",
            "1        0      118     560  \n",
            "2        0       74     824  \n",
            "3        0        1       3  \n",
            "4        2        8       0  \n"
          ]
        }
      ]
    },
    {
      "cell_type": "code",
      "source": [
        "cc_apps = cc_apps.drop(columns=['Drivers License', 'Gender'])\n",
        "cc_apps = cc_apps.values"
      ],
      "metadata": {
        "id": "LL1BcZN02kx0"
      },
      "execution_count": null,
      "outputs": []
    },
    {
      "cell_type": "markdown",
      "source": [
        "\n",
        "Proposed approach\n",
        "\n",
        "1. Potential techniques - What different techniques should be explored?\n",
        "\n",
        "    This is a classification problem where the aim of the exercise is to predict, recognize and group applicants into two buckets (i.e 1 or 0) that represent clients that the bank should reject or approve for credit cards.\n",
        "    Popular classification algorithms include Logistic Regression, XG Boost, Decision Tree, Support Vector Machines, etc. These algorithms are used to develop models based on trainig data to be used to predict the likelihood that subsequent data points will fall into predetermined categories.\n",
        "\n",
        "2. Overall solution design - What is the potential solution design?\n",
        "\n",
        "    The solution is to split the data into a train and test set with preferrably a 67-33 split between train and test sets. The classification model will be trained on the train set to build a model with high enough predictive power. The accuracy of the model is tested on the test set and recalibrated until the accuracy is high enough and acceptable.\n",
        "\n",
        "3. Measures of success - What are the key measures of success?\n",
        "\n",
        "    The success of this model will be measured by having a high Recall score. The greater the Recall score, higher the chances of minimizing False Negatives.\n",
        "\n",
        "    If we fail to predict the people who should be approved for a credit card, it would cost the banks a lot of money and it would be a prudent to higlight potential defaults even if there is slight doubt.\n",
        "\n"
      ],
      "metadata": {
        "id": "8Ra9bp5PxiOB"
      }
    },
    {
      "cell_type": "markdown",
      "metadata": {
        "dc": {
          "key": "45"
        },
        "deletable": false,
        "editable": false,
        "run_control": {
          "frozen": true
        },
        "tags": [
          "context"
        ],
        "id": "5v9Rm3tzjE5Y"
      },
      "source": [
        "## 7. Splitting the dataset into train and test sets\n",
        "<p>We have successfully converted all the non-numeric values to numeric ones.</p>\n",
        "<p>Now, we will split our data into train set and test set to prepare our data for two different phases of machine learning modeling: training and testing. Ideally, no information from the test data should be used to scale the training data or should be used to direct the training process of a machine learning model. Hence, we first split the data and then apply the scaling."
      ]
    },
    {
      "cell_type": "code",
      "execution_count": null,
      "metadata": {
        "dc": {
          "key": "45"
        },
        "tags": [
          "sample_code"
        ],
        "id": "cAGeWUXsjE5Y"
      },
      "outputs": [],
      "source": [
        "# Import train_test_split\n",
        "from sklearn.model_selection import train_test_split\n",
        "\n",
        "\n",
        "# Segregate features and labels into separate variables\n",
        "X,y = cc_apps[:,0:12] , cc_apps[:,13]\n",
        "\n",
        "#X- These are our features \n",
        "#Y-This is the target variable\n",
        "\n",
        "# Split into train and test sets\n",
        "X_train, X_test, y_train, y_test = train_test_split(X,y,test_size=0.33,random_state=42)"
      ]
    },
    {
      "cell_type": "markdown",
      "metadata": {
        "dc": {
          "key": "52"
        },
        "deletable": false,
        "editable": false,
        "run_control": {
          "frozen": true
        },
        "tags": [
          "context"
        ],
        "id": "9UoUeKdQjE5Z"
      },
      "source": [
        "## 8. Preprocessing the data (part ii)\n",
        "<p>Now, let's try to understand what these scaled values mean in the real world. Let's use <code>CreditScore</code> as an example. The credit score of a person is their creditworthiness based on their credit history. The higher this number, the more financially trustworthy a person is considered to be. So, a <code>CreditScore</code> of 1 is the highest since we're rescaling all the values to the range of 0-1.</p>"
      ]
    },
    {
      "cell_type": "code",
      "execution_count": null,
      "metadata": {
        "dc": {
          "key": "52"
        },
        "tags": [
          "sample_code"
        ],
        "id": "RMPJ6BjQjE5b"
      },
      "outputs": [],
      "source": [
        "# Import MinMaxScaler\n",
        "from sklearn.preprocessing import  MinMaxScaler\n",
        "\n",
        "# Instantiate MinMaxScaler and use it to rescale X_train and X_test\n",
        "scaler = MinMaxScaler(feature_range=(0,1))\n",
        "rescaledX_train = scaler.fit_transform(X_train)\n",
        "rescaledX_test = scaler.fit_transform(X_test)"
      ]
    },
    {
      "cell_type": "markdown",
      "metadata": {
        "dc": {
          "key": "59"
        },
        "deletable": false,
        "editable": false,
        "run_control": {
          "frozen": true
        },
        "tags": [
          "context"
        ],
        "id": "fAk3fP6DjE5b"
      },
      "source": [
        "## 9. Fitting a logistic regression, LGBM, XG Boost model to the train set\n",
        "<p>Essentially, predicting if a credit card application will be approved or not is a <a href=\"https://en.wikipedia.org/wiki/Statistical_classification\">classification</a> task.Our dataset contains more instances that correspond to \"Denied\" status than instances corresponding to \"Approved\" status. Specifically, out of 690 instances, there are 383 (55.5%) applications that got denied and 307 (44.5%) applications that got approved. </p>\n",
        "\n",
        "<p>Which model we pick will depend on the performance affecting training and fitting the data"
      ]
    },
    {
      "cell_type": "code",
      "execution_count": null,
      "metadata": {
        "dc": {
          "key": "59"
        },
        "tags": [
          "sample_code"
        ],
        "colab": {
          "base_uri": "https://localhost:8080/"
        },
        "id": "Oo7fqftMjE5c",
        "outputId": "e756963a-14c9-45a2-fe18-f75248468e06"
      },
      "outputs": [
        {
          "output_type": "execute_result",
          "data": {
            "text/plain": [
              "LogisticRegression()"
            ]
          },
          "metadata": {},
          "execution_count": 34
        }
      ],
      "source": [
        "# Import LogisticRegression\n",
        "from sklearn.linear_model import LogisticRegression\n",
        "\n",
        "# Instantiate a LogisticRegression classifier with default parameter values\n",
        "logreg = LogisticRegression()\n",
        "\n",
        "# Fit logreg to the train set\n",
        "logreg.fit(rescaledX_train,y_train)"
      ]
    },
    {
      "cell_type": "code",
      "source": [
        "#Fitting LGBM\n",
        "\n",
        "import lightgbm as lgb\n",
        "clf = lgb.LGBMClassifier()\n",
        "\n",
        "\n",
        "# Fit logreg to the train set\n",
        "clf.fit(rescaledX_train,y_train)"
      ],
      "metadata": {
        "colab": {
          "base_uri": "https://localhost:8080/"
        },
        "id": "eOmkP9lH3Hlw",
        "outputId": "aec84fb2-ee8d-4806-820c-0394bfaf8431"
      },
      "execution_count": null,
      "outputs": [
        {
          "output_type": "execute_result",
          "data": {
            "text/plain": [
              "LGBMClassifier()"
            ]
          },
          "metadata": {},
          "execution_count": 35
        }
      ]
    },
    {
      "cell_type": "code",
      "source": [
        "#Fitting XGB\n",
        "\n",
        "from xgboost import XGBClassifier\n",
        "clf2 = XGBClassifier()\n",
        "\n",
        "# Fit logreg to the train set\n",
        "clf2.fit(rescaledX_train,y_train)"
      ],
      "metadata": {
        "colab": {
          "base_uri": "https://localhost:8080/"
        },
        "id": "GVNJghoX4W-G",
        "outputId": "879dfd1c-1e8f-4e4a-de53-9dd8b43b4f15"
      },
      "execution_count": null,
      "outputs": [
        {
          "output_type": "execute_result",
          "data": {
            "text/plain": [
              "XGBClassifier()"
            ]
          },
          "metadata": {},
          "execution_count": 36
        }
      ]
    },
    {
      "cell_type": "markdown",
      "metadata": {
        "dc": {
          "key": "66"
        },
        "deletable": false,
        "editable": false,
        "run_control": {
          "frozen": true
        },
        "tags": [
          "context"
        ],
        "id": "NIs0I2mXjE5c"
      },
      "source": [
        "## 10. Making predictions and evaluating performance\n",
        "<p>But how well does our model perform? </p>\n",
        "<p>We will now evaluate our model on the test set with respect to <a href=\"https://developers.google.com/machine-learning/crash-course/classification/accuracy\">classification accuracy</a>. But we will also take a look the model's <a href=\"http://www.dataschool.io/simple-guide-to-confusion-matrix-terminology/\">confusion matrix</a>. In the case of predicting credit card applications, it is equally important to see if our machine learning model is able to predict the approval status of the applications as denied that originally got denied. \n",
        "\n",
        "In this case we shall evaluate the model using different classifiers"
      ]
    },
    {
      "cell_type": "code",
      "execution_count": null,
      "metadata": {
        "dc": {
          "key": "66"
        },
        "tags": [
          "sample_code"
        ],
        "colab": {
          "base_uri": "https://localhost:8080/"
        },
        "id": "hM75jcWDjE5d",
        "outputId": "47ea25eb-7480-4ded-d670-f2408a9f7732"
      },
      "outputs": [
        {
          "output_type": "stream",
          "name": "stdout",
          "text": [
            "Accuracy of logistic regression classifier:  0.8377192982456141\n",
            "[[93 10]\n",
            " [27 98]]\n",
            "              precision    recall  f1-score   support\n",
            "\n",
            "         0.0       0.78      0.90      0.83       103\n",
            "         1.0       0.91      0.78      0.84       125\n",
            "\n",
            "    accuracy                           0.84       228\n",
            "   macro avg       0.84      0.84      0.84       228\n",
            "weighted avg       0.85      0.84      0.84       228\n",
            "\n"
          ]
        }
      ],
      "source": [
        "# Import confusion_matrix\n",
        "from sklearn.metrics import confusion_matrix\n",
        "\n",
        "# Use logreg to predict instances from the test set and store it\n",
        "y_pred = logreg.predict(rescaledX_test)\n",
        "\n",
        "# Get the accuracy score of logreg model and print it\n",
        "print(\"Accuracy of logistic regression classifier: \", logreg.score(rescaledX_test, y_test))\n",
        "\n",
        "# Print the confusion matrix of the logreg model\n",
        "print(confusion_matrix(y_test, y_pred))\n",
        "\n",
        "print(classification_report(y_test,y_pred))"
      ]
    },
    {
      "cell_type": "code",
      "source": [
        "# Import confusion_matrix\n",
        "from sklearn.metrics import confusion_matrix\n",
        "\n",
        "# Use LGBM to predict instances from the test set and store it\n",
        "y_pred = clf.predict(rescaledX_test)\n",
        "\n",
        "# Get the accuracy score of LGBM model and print it\n",
        "print(\"Accuracy of LGBM classifier: \", clf.score(rescaledX_test, y_test))\n",
        "\n",
        "# Print the confusion matrix of the lgbmmodel\n",
        "print(confusion_matrix(y_test, y_pred))\n",
        "\n",
        "print(classification_report(y_test,y_pred))"
      ],
      "metadata": {
        "colab": {
          "base_uri": "https://localhost:8080/"
        },
        "id": "fjz5NWwC3tVD",
        "outputId": "31e99d99-31ac-452f-e3b1-7599c32abefd"
      },
      "execution_count": null,
      "outputs": [
        {
          "output_type": "stream",
          "name": "stdout",
          "text": [
            "Accuracy of LGBM classifier:  0.8289473684210527\n",
            "[[ 84  19]\n",
            " [ 20 105]]\n",
            "              precision    recall  f1-score   support\n",
            "\n",
            "         0.0       0.81      0.82      0.81       103\n",
            "         1.0       0.85      0.84      0.84       125\n",
            "\n",
            "    accuracy                           0.83       228\n",
            "   macro avg       0.83      0.83      0.83       228\n",
            "weighted avg       0.83      0.83      0.83       228\n",
            "\n"
          ]
        }
      ]
    },
    {
      "cell_type": "code",
      "source": [
        "# Import confusion_matrix\n",
        "from sklearn.metrics import confusion_matrix\n",
        "\n",
        "# Use XG to predict instances from the test set and store it\n",
        "y_pred = clf2.predict(rescaledX_test)\n",
        "\n",
        "# Get the accuracy score of XG model and print it\n",
        "print(\"Accuracy of logistic regression classifier: \", clf2.score(rescaledX_test, y_test))\n",
        "\n",
        "# Print the confusion matrix of the XG model\n",
        "print(confusion_matrix(y_test, y_pred))\n",
        "\n",
        "print(classification_report(y_test,y_pred))"
      ],
      "metadata": {
        "colab": {
          "base_uri": "https://localhost:8080/"
        },
        "id": "SLRl6Hiq5Si7",
        "outputId": "20070527-eff3-4c70-ba6a-735aa81960c6"
      },
      "execution_count": null,
      "outputs": [
        {
          "output_type": "stream",
          "name": "stdout",
          "text": [
            "Accuracy of logistic regression classifier:  0.8421052631578947\n",
            "[[ 89  14]\n",
            " [ 22 103]]\n",
            "              precision    recall  f1-score   support\n",
            "\n",
            "         0.0       0.80      0.86      0.83       103\n",
            "         1.0       0.88      0.82      0.85       125\n",
            "\n",
            "    accuracy                           0.84       228\n",
            "   macro avg       0.84      0.84      0.84       228\n",
            "weighted avg       0.84      0.84      0.84       228\n",
            "\n"
          ]
        }
      ]
    },
    {
      "cell_type": "markdown",
      "metadata": {
        "dc": {
          "key": "73"
        },
        "deletable": false,
        "editable": false,
        "run_control": {
          "frozen": true
        },
        "tags": [
          "context"
        ],
        "id": "q5TnZGoijE5e"
      },
      "source": [
        "## 11. Grid searching and making the model perform better\n",
        "<p>Our best model has an accuracy score of over 84%.</p>\n",
        "<p>For the confusion matrix, the first element of the of the first row of the confusion matrix denotes the true negatives meaning the number of negative instances (denied applications) predicted by the model correctly. And the last element of the second row of the confusion matrix denotes the true positives meaning the number of positive instances (approved applications) predicted by the model correctly.</p>"
      ]
    },
    {
      "cell_type": "code",
      "execution_count": null,
      "metadata": {
        "dc": {
          "key": "73"
        },
        "tags": [
          "sample_code"
        ],
        "id": "swwo8MBUjE5h"
      },
      "outputs": [],
      "source": [
        "# Import GridSearchCV Logistic\n",
        "from sklearn.model_selection import GridSearchCV\n",
        "\n",
        "# Define the grid of values for tol and max_iter\n",
        "tol = [0.01, 0.001 and 0.0001]\n",
        "max_iter = [100, 150, 200]\n",
        "\n",
        "param_grid = dict(tol= tol, max_iter= max_iter)"
      ]
    },
    {
      "cell_type": "code",
      "source": [
        "# Import GridSearchCV LGBM\n",
        "from sklearn.model_selection import GridSearchCV\n",
        "\n",
        "# Define the grid of values\n",
        "num_leaves= [31, 127]\n",
        "reg_alpha= [0.1, 0.5]\n",
        "min_data_in_leaf= [30, 50, 100, 300, 400]\n",
        "lambda_l1= [0, 1, 1.5]\n",
        "lambda_l2= [0, 1]\n",
        "\n",
        "param_grid = dict(num_leaves= num_leaves, reg_alpha= reg_alpha,min_data_in_leaf=min_data_in_leaf,lambda_l1=lambda_l1,lambda_l2=lambda_l2)"
      ],
      "metadata": {
        "id": "RtT8CoLp6Lre"
      },
      "execution_count": null,
      "outputs": []
    },
    {
      "cell_type": "code",
      "source": [
        "# Import GridSearchCV XGBoost\n",
        "from sklearn.model_selection import GridSearchCV\n",
        "\n",
        "# Define the grid of values for tol and max_iter\n",
        "max_depth = [4,5,6,8]\n",
        "n_estimators = [60,220,500,750,1000]\n",
        "learning_rate = [0.1, 0.01, 0.05]\n",
        "min_child_weight =[6,8,10,12]\n",
        "\n",
        "param_grid = dict(max_depth= max_depth, n_estimators= n_estimators,learning_rate=learning_rate,min_child_weight=min_child_weight)"
      ],
      "metadata": {
        "id": "6iIyvo5C6Lim"
      },
      "execution_count": null,
      "outputs": []
    },
    {
      "cell_type": "markdown",
      "metadata": {
        "dc": {
          "key": "80"
        },
        "deletable": false,
        "editable": false,
        "run_control": {
          "frozen": true
        },
        "tags": [
          "context"
        ],
        "id": "bA3TRzryjE5h"
      },
      "source": [
        "## 12. Finding the best performing model\n",
        "<p>We have defined the grid of hyperparameter values and converted them into a single dictionary format which <code>GridSearchCV()</code> expects as one of its parameters. Now, we will begin the grid search to see which values perform best.</p>"
      ]
    },
    {
      "cell_type": "code",
      "execution_count": null,
      "metadata": {
        "dc": {
          "key": "80"
        },
        "tags": [
          "sample_code"
        ],
        "colab": {
          "base_uri": "https://localhost:8080/"
        },
        "id": "nO3uTNEtjE5h",
        "outputId": "0672b449-b083-48a2-d98e-15799b2b502f"
      },
      "outputs": [
        {
          "output_type": "stream",
          "name": "stdout",
          "text": [
            "Best: 0.849275 using {'max_iter': 100, 'tol': 0.01}\n",
            "              precision    recall  f1-score   support\n",
            "\n",
            "         0.0       0.53      0.16      0.24       103\n",
            "         1.0       0.56      0.89      0.69       125\n",
            "\n",
            "    accuracy                           0.56       228\n",
            "   macro avg       0.55      0.52      0.46       228\n",
            "weighted avg       0.55      0.56      0.49       228\n",
            "\n",
            "[[ 16  87]\n",
            " [ 14 111]]\n"
          ]
        }
      ],
      "source": [
        "# Instantiate GridSearchCV with the required parameters\n",
        "grid_model = GridSearchCV(estimator=logreg, param_grid=param_grid, cv=5)\n",
        "\n",
        "# Use scaler to rescale X and assign it to rescaledX\n",
        "rescaledX = scaler.fit_transform(X)\n",
        "\n",
        "# Fit data to grid_model\n",
        "grid_model_result = grid_model.fit(rescaledX, y)\n",
        "\n",
        "# Summarize results\n",
        "best_score, best_params = grid_model_result.best_score_, grid_model_result.best_params_\n",
        "print(\"Best: %f using %s\" % (best_score, best_params))\n",
        "\n",
        "y_pred = grid_model_result.predict(X_test)\n",
        "print(classification_report(y_test, y_pred))\n",
        "print(confusion_matrix(y_test, y_pred))"
      ]
    },
    {
      "cell_type": "code",
      "source": [
        "# Instantiate GridSearchCV with the required parameters\n",
        "grid_model = GridSearchCV(estimator=clf, param_grid=param_grid, cv=5)\n",
        "\n",
        "# Use scaler to rescale X and assign it to rescaledX\n",
        "rescaledX = scaler.fit_transform(X)\n",
        "\n",
        "# Fit data to grid_model\n",
        "grid_model_result = grid_model.fit(rescaledX, y)\n",
        "\n",
        "# Summarize results\n",
        "best_score, best_params = grid_model_result.best_score_, grid_model_result.best_params_\n",
        "print(\"Best: %f using %s\" % (best_score, best_params))\n",
        "\n",
        "y_pred = grid_model_result.predict(X_test)\n",
        "print(classification_report(y_test, y_pred))\n",
        "print(confusion_matrix(y_test, y_pred))"
      ],
      "metadata": {
        "id": "o2f3iS0Y7A-X",
        "colab": {
          "base_uri": "https://localhost:8080/"
        },
        "outputId": "c18c3805-87d4-4435-d85d-c318aea38700"
      },
      "execution_count": null,
      "outputs": [
        {
          "output_type": "stream",
          "name": "stdout",
          "text": [
            "Best: 0.850725 using {'max_iter': 100, 'tol': 0.01}\n",
            "              precision    recall  f1-score   support\n",
            "\n",
            "         0.0       0.79      0.88      0.83       103\n",
            "         1.0       0.89      0.81      0.85       125\n",
            "\n",
            "    accuracy                           0.84       228\n",
            "   macro avg       0.84      0.85      0.84       228\n",
            "weighted avg       0.85      0.84      0.84       228\n",
            "\n",
            "[[ 91  12]\n",
            " [ 24 101]]\n"
          ]
        }
      ]
    },
    {
      "cell_type": "code",
      "source": [
        "# Instantiate GridSearchCV with the required parameters\n",
        "grid_model = GridSearchCV(estimator=clf2, param_grid=param_grid, cv=5)\n",
        "\n",
        "# Use scaler to rescale X and assign it to rescaledX\n",
        "rescaledX = scaler.fit_transform(X)\n",
        "\n",
        "# Fit data to grid_model\n",
        "grid_model_result = grid_model.fit(rescaledX, y)\n",
        "\n",
        "# Summarize results\n",
        "best_score, best_params = grid_model_result.best_score_, grid_model_result.best_params_\n",
        "print(\"Best: %f using %s\" % (best_score, best_params))\n",
        "\n",
        "y_pred = grid_model_result.predict(X_test)\n",
        "print(classification_report(y_test, y_pred))\n",
        "print(confusion_matrix(y_test, y_pred))"
      ],
      "metadata": {
        "id": "fTWP-EjX7P7W",
        "colab": {
          "base_uri": "https://localhost:8080/"
        },
        "outputId": "09de85c5-a4c0-468f-f0ca-f14be7ee9611"
      },
      "execution_count": null,
      "outputs": [
        {
          "output_type": "stream",
          "name": "stdout",
          "text": [
            "Best: 0.839130 using {'max_iter': 100, 'tol': 0.01}\n",
            "              precision    recall  f1-score   support\n",
            "\n",
            "         0.0       0.89      0.71      0.79       103\n",
            "         1.0       0.79      0.93      0.86       125\n",
            "\n",
            "    accuracy                           0.83       228\n",
            "   macro avg       0.84      0.82      0.82       228\n",
            "weighted avg       0.84      0.83      0.83       228\n",
            "\n",
            "[[ 73  30]\n",
            " [  9 116]]\n"
          ]
        }
      ]
    },
    {
      "cell_type": "markdown",
      "source": [
        "\n",
        "\n",
        "    TP (True Positive) means that we Correctly predicted the Customer would Default. (Most Desirable Result)\n",
        "    TN (True Negative) means that we Correctly predicted the Customer to be a Non-Defaulter. (Another Desirable Result)\n",
        "    FP (False Positive) means that we Wrongly predicted the Customer as a Defaulter. They were actually Non-Defaulters. (False Alarm)\n",
        "    FN (False Negative) means that we Wrongly predicted the Customer as a Non-Defaulter. (Most Undesirable Result / Worst Result)\n",
        "\n"
      ],
      "metadata": {
        "id": "sJ5_uhSDogbp"
      }
    },
    {
      "cell_type": "markdown",
      "source": [
        "Conclusions"
      ],
      "metadata": {
        "id": "cJHhdgGl0ahO"
      }
    },
    {
      "cell_type": "markdown",
      "source": [
        "Insights: \n",
        "\n",
        "The most important measure of success for this problem is recall on the test set.\n",
        "\n",
        "The model that will give us the best results is the GridSearchCV model with XGBClassifier. This model has an accuracy of 83% however accuracy does not tell the whole picture.I will explain further below."
      ],
      "metadata": {
        "id": "jJQhP5154iQb"
      }
    },
    {
      "cell_type": "markdown",
      "source": [
        "The features with the most importance to the model are;\n",
        "\n",
        "*   Income-The applicants with high income have lower chances of defaulting.\n",
        "*   Credit Score-The applicants with a high credit score have lower chances of defaulting.\n",
        "*   Age -Older applicants have lower chances of defaulting compared to younger applicants\n",
        "*   Years employed-Applicants who are older have lower chances of defaulting\n",
        "\n",
        "\n",
        "2. Comparison of various techniques and their relative performance.Which one is performing relatively better? Is there scope to improve the performance further?\n",
        "\n",
        "    The best performing model for this business case is Grid Search:LGBM(performance- 85.1%) however  Grid Search: XGBClassifier with a score of 83.91% will yield us better results because it minimizes the potential of accepting  risky applicants(False Negatives). Only 9 where accepted versus 24 with LGBM.\n",
        "\n",
        "    The model can be improved with further tuning of the model. Prunning the model could also return better results.\n",
        "\n",
        "3. Proposal for the final solution design - What model do you propose to be adopted? Why is this the best solution to adopt?\n",
        "\n",
        "    I propose the Grid Search: XGBClassifier to be adopted for the final solution design as it will help us at minimize the potential of accepting  risky applicants.\n",
        "    The Grid Search: XGBClassifier is the best solution because despite it's recall score being lower than the Grid Search:LGBM model it returns the fewest  false negatives hence reduccing risky credit card transactions.\n",
        "    This model gives us a well balanced model for recall with 93% for Approval = 1 i.e the model has the highest ability to minimize false negatives predict applicants that are likely to default and 71% for rejection =0.\n",
        "    The precision of this model is 84% which means that from 100 Customers being Labelled as Defaulters, 84% of them were actually Defaulters. The model has an accuracy of 83% meaning that the model makes predicts both Defaulters and Non-Defaulters 83% of the time.\n",
        "\n"
      ],
      "metadata": {
        "id": "vSSyvr-n0dAz"
      }
    }
  ],
  "metadata": {
    "kernelspec": {
      "display_name": "Python 3",
      "language": "python",
      "name": "python3"
    },
    "language_info": {
      "codemirror_mode": {
        "name": "ipython",
        "version": 3
      },
      "file_extension": ".py",
      "mimetype": "text/x-python",
      "name": "python",
      "nbconvert_exporter": "python",
      "pygments_lexer": "ipython3",
      "version": "3.6.6"
    },
    "colab": {
      "provenance": []
    }
  },
  "nbformat": 4,
  "nbformat_minor": 0
}